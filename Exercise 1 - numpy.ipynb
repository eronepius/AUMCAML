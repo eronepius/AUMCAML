{
 "cells": [
  {
   "cell_type": "markdown",
   "id": "dbabb976-095b-4395-b11f-85f21c58a3eb",
   "metadata": {},
   "source": [
    "### Importing numpy package as np for processing numberics as numpy array"
   ]
  },
  {
   "cell_type": "code",
   "execution_count": 3,
   "id": "fd916c75-0ab5-4f39-953c-f17eeddaab13",
   "metadata": {},
   "outputs": [],
   "source": [
    "import numpy as np"
   ]
  },
  {
   "cell_type": "markdown",
   "id": "5592dd76-2a63-4777-aa45-34933c9e92a3",
   "metadata": {},
   "source": [
    "### Creating static 2 numpy array in variable a and b of size 3*3 using array() function "
   ]
  },
  {
   "cell_type": "code",
   "execution_count": 4,
   "id": "4234c683-5bb0-49a7-8d24-e61d38feb04b",
   "metadata": {},
   "outputs": [],
   "source": [
    "a = np.array([[1, 2, 3], [4, 5, 6], [7 ,8 , 9]])\n",
    "b = np.array([[3, 2, 1], [6, 5, 4], [9, 8, 7]])"
   ]
  },
  {
   "cell_type": "markdown",
   "id": "19adc599-aa4f-4c63-a10d-a88f608067ee",
   "metadata": {},
   "source": [
    "#### Printing Values of a and b"
   ]
  },
  {
   "cell_type": "code",
   "execution_count": 5,
   "id": "3af0b3b3-07b3-4900-8635-6ed9dd9f2f85",
   "metadata": {},
   "outputs": [
    {
     "data": {
      "text/plain": [
       "array([[1, 2, 3],\n",
       "       [4, 5, 6],\n",
       "       [7, 8, 9]])"
      ]
     },
     "execution_count": 5,
     "metadata": {},
     "output_type": "execute_result"
    }
   ],
   "source": [
    "a"
   ]
  },
  {
   "cell_type": "markdown",
   "id": "d6135689-9852-4e1f-ab5e-654f2081c938",
   "metadata": {},
   "source": [
    "### Adding two numpy arrays a and b to create c"
   ]
  },
  {
   "cell_type": "code",
   "execution_count": 6,
   "id": "e4257111-0eba-49c4-9c2f-def7292a1a65",
   "metadata": {},
   "outputs": [],
   "source": [
    "c = a+b"
   ]
  },
  {
   "cell_type": "code",
   "execution_count": 7,
   "id": "e673cdf0-05df-45c1-b7f3-3d72730fecb8",
   "metadata": {},
   "outputs": [
    {
     "data": {
      "text/plain": [
       "array([[ 4,  4,  4],\n",
       "       [10, 10, 10],\n",
       "       [16, 16, 16]])"
      ]
     },
     "execution_count": 7,
     "metadata": {},
     "output_type": "execute_result"
    }
   ],
   "source": [
    "c"
   ]
  },
  {
   "cell_type": "markdown",
   "id": "00213e62-bf20-475b-b654-728380bbb321",
   "metadata": {},
   "source": [
    "### Creating a new numpy array and assigning to varibale d and two scalars e and f and performing multiplication"
   ]
  },
  {
   "cell_type": "code",
   "execution_count": 8,
   "id": "e505443f-036a-40a0-92bc-336330697bca",
   "metadata": {},
   "outputs": [],
   "source": [
    "d = np.array([[1,2,3], [7,8,9], [10,11,12], [5,7,9]])\n",
    "e = 1\n",
    "f = 2"
   ]
  },
  {
   "cell_type": "code",
   "execution_count": 9,
   "id": "811514ca-150b-4e23-80ea-7d9a218084a4",
   "metadata": {},
   "outputs": [
    {
     "data": {
      "text/plain": [
       "array([[ 1,  2,  3],\n",
       "       [ 7,  8,  9],\n",
       "       [10, 11, 12],\n",
       "       [ 5,  7,  9]])"
      ]
     },
     "execution_count": 9,
     "metadata": {},
     "output_type": "execute_result"
    }
   ],
   "source": [
    "d*e"
   ]
  },
  {
   "cell_type": "code",
   "execution_count": 10,
   "id": "838185b3-2353-4563-9d7b-a1d05adb2683",
   "metadata": {},
   "outputs": [
    {
     "data": {
      "text/plain": [
       "array([[ 2,  4,  6],\n",
       "       [14, 16, 18],\n",
       "       [20, 22, 24],\n",
       "       [10, 14, 18]])"
      ]
     },
     "execution_count": 10,
     "metadata": {},
     "output_type": "execute_result"
    }
   ],
   "source": [
    "d*f"
   ]
  },
  {
   "cell_type": "markdown",
   "id": "fc422e0c-ebda-4f79-8033-b8802661772c",
   "metadata": {},
   "source": [
    "### Using random module using randint() function to create a numpy array of dim 5\\*1"
   ]
  },
  {
   "cell_type": "code",
   "execution_count": 11,
   "id": "bb90a9c0-d71f-42cd-a5ff-1796b6b2a373",
   "metadata": {},
   "outputs": [],
   "source": [
    "g = np.random.randint(1, 199, size=(5,1))"
   ]
  },
  {
   "cell_type": "code",
   "execution_count": 12,
   "id": "52f4b563-7f96-4a18-bd43-7e2aedd783bb",
   "metadata": {},
   "outputs": [
    {
     "data": {
      "text/plain": [
       "array([[ 65],\n",
       "       [163],\n",
       "       [ 22],\n",
       "       [153],\n",
       "       [182]])"
      ]
     },
     "execution_count": 12,
     "metadata": {},
     "output_type": "execute_result"
    }
   ],
   "source": [
    "g"
   ]
  },
  {
   "cell_type": "markdown",
   "id": "9c1876c1-c18a-4d05-99cc-ac2427179178",
   "metadata": {},
   "source": [
    "#### Dimensions of the created array using shape() and ndim function"
   ]
  },
  {
   "cell_type": "code",
   "execution_count": 13,
   "id": "941638d4-f7f7-4589-88b6-110256e95a52",
   "metadata": {},
   "outputs": [
    {
     "data": {
      "text/plain": [
       "(5, 1)"
      ]
     },
     "execution_count": 13,
     "metadata": {},
     "output_type": "execute_result"
    }
   ],
   "source": [
    "g.shape"
   ]
  },
  {
   "cell_type": "code",
   "execution_count": 16,
   "id": "8f7b0533-8367-4cde-9d0a-05805181e15e",
   "metadata": {},
   "outputs": [
    {
     "data": {
      "text/plain": [
       "2"
      ]
     },
     "execution_count": 16,
     "metadata": {},
     "output_type": "execute_result"
    }
   ],
   "source": [
    "g.ndim"
   ]
  },
  {
   "cell_type": "markdown",
   "id": "a48d868c-f8b5-42ba-aa0d-184490a11494",
   "metadata": {},
   "source": [
    "### Using reshape() function to change the dimensions of matrix from 5\\*1 to 1\\*5"
   ]
  },
  {
   "cell_type": "code",
   "execution_count": 27,
   "id": "6a275c63-47c8-44d7-b7a0-df480de04e4b",
   "metadata": {},
   "outputs": [],
   "source": [
    "h = np.reshape(g, (1,5))"
   ]
  },
  {
   "cell_type": "code",
   "execution_count": 28,
   "id": "7a2503fa-3b28-4187-b2de-bacd1afe54f6",
   "metadata": {},
   "outputs": [
    {
     "data": {
      "text/plain": [
       "array([[151, 114,  76, 188, 186]])"
      ]
     },
     "execution_count": 28,
     "metadata": {},
     "output_type": "execute_result"
    }
   ],
   "source": [
    "h"
   ]
  },
  {
   "cell_type": "markdown",
   "id": "e858544a-452b-4ceb-b011-d6a1bc742703",
   "metadata": {},
   "source": [
    "### Using transpose() function to change the matrix from 1\\*5 to 5\\*1 back"
   ]
  },
  {
   "cell_type": "code",
   "execution_count": 30,
   "id": "5426b27b-6223-49fa-baaf-70ba9fe5ecf7",
   "metadata": {},
   "outputs": [
    {
     "data": {
      "text/plain": [
       "array([[151],\n",
       "       [114],\n",
       "       [ 76],\n",
       "       [188],\n",
       "       [186]])"
      ]
     },
     "execution_count": 30,
     "metadata": {},
     "output_type": "execute_result"
    }
   ],
   "source": [
    "np.transpose(h)"
   ]
  },
  {
   "cell_type": "markdown",
   "id": "435c8fc0-3052-4824-a5ad-4ce3ae793b3b",
   "metadata": {},
   "source": [
    "### What is matrics ?"
   ]
  },
  {
   "cell_type": "markdown",
   "id": "ab630204-38f5-4f98-9f83-e102c0b34aac",
   "metadata": {},
   "source": [
    "A matrix is a grid of n × m (say, 3 × 3) numbers surrounded by brackets. We can add and subtract matrices of the same size, multiply one matrix with another as long as the sizes are compatible ((n × m) × (m × p) = n × p), and multiply an entire matrix by a constant. A vector is a matrix with just one row or column. So there are a bunch of mathematical operations that we can do to any matrix."
   ]
  },
  {
   "cell_type": "markdown",
   "id": "011ccef2-6fbc-440f-9add-237508694312",
   "metadata": {},
   "source": [
    "### What is a tensor ?\n",
    "\n",
    "A tensor is often thought of as a generalized matrix. That is, it could be a 1-D matrix (a vector is actually such a tensor), a 3-D matrix (something like a cube of numbers), even a 0-D matrix (a single number), or a higher dimensional structure that is harder to visualize. The dimension of the tensor is called its rank."
   ]
  },
  {
   "cell_type": "code",
   "execution_count": null,
   "id": "03875896-d49a-49fb-a642-17b18070a2c6",
   "metadata": {},
   "outputs": [],
   "source": []
  }
 ],
 "metadata": {
  "kernelspec": {
   "display_name": "Python 3 (ipykernel)",
   "language": "python",
   "name": "python3"
  },
  "language_info": {
   "codemirror_mode": {
    "name": "ipython",
    "version": 3
   },
   "file_extension": ".py",
   "mimetype": "text/x-python",
   "name": "python",
   "nbconvert_exporter": "python",
   "pygments_lexer": "ipython3",
   "version": "3.9.12"
  }
 },
 "nbformat": 4,
 "nbformat_minor": 5
}
