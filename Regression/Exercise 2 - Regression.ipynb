{
 "cells": [
  {
   "cell_type": "markdown",
   "id": "0a5db202-2a76-4f13-8a75-951fd3b4e5b4",
   "metadata": {},
   "source": [
    "## Exercise 1\n",
    "\n",
    "### Simple Linear Regression"
   ]
  },
  {
   "cell_type": "code",
   "execution_count": 1,
   "id": "5a09454f-4c55-4a83-8f62-da85d4d4534f",
   "metadata": {},
   "outputs": [],
   "source": [
    "import pandas as pd\n",
    "import matplotlib.pyplot as plt"
   ]
  },
  {
   "cell_type": "code",
   "execution_count": 2,
   "id": "e94083fb-8c95-4fa5-b8b4-09c36e04b093",
   "metadata": {},
   "outputs": [],
   "source": [
    "x = [0,3,2,1,5,5,4,3,0,4]\n",
    "y = [2,8,7,3,13,12,9,9,3,10]\n",
    "d = {'x': x, 'y':y}\n",
    "df = pd.DataFrame(d)"
   ]
  },
  {
   "cell_type": "code",
   "execution_count": 3,
   "id": "f5ee88b3-5132-42a0-b11e-d55b2ec57303",
   "metadata": {},
   "outputs": [
    {
     "data": {
      "text/html": [
       "<div>\n",
       "<style scoped>\n",
       "    .dataframe tbody tr th:only-of-type {\n",
       "        vertical-align: middle;\n",
       "    }\n",
       "\n",
       "    .dataframe tbody tr th {\n",
       "        vertical-align: top;\n",
       "    }\n",
       "\n",
       "    .dataframe thead th {\n",
       "        text-align: right;\n",
       "    }\n",
       "</style>\n",
       "<table border=\"1\" class=\"dataframe\">\n",
       "  <thead>\n",
       "    <tr style=\"text-align: right;\">\n",
       "      <th></th>\n",
       "      <th>x</th>\n",
       "      <th>y</th>\n",
       "    </tr>\n",
       "  </thead>\n",
       "  <tbody>\n",
       "    <tr>\n",
       "      <th>0</th>\n",
       "      <td>0</td>\n",
       "      <td>2</td>\n",
       "    </tr>\n",
       "    <tr>\n",
       "      <th>1</th>\n",
       "      <td>3</td>\n",
       "      <td>8</td>\n",
       "    </tr>\n",
       "    <tr>\n",
       "      <th>2</th>\n",
       "      <td>2</td>\n",
       "      <td>7</td>\n",
       "    </tr>\n",
       "    <tr>\n",
       "      <th>3</th>\n",
       "      <td>1</td>\n",
       "      <td>3</td>\n",
       "    </tr>\n",
       "    <tr>\n",
       "      <th>4</th>\n",
       "      <td>5</td>\n",
       "      <td>13</td>\n",
       "    </tr>\n",
       "    <tr>\n",
       "      <th>5</th>\n",
       "      <td>5</td>\n",
       "      <td>12</td>\n",
       "    </tr>\n",
       "    <tr>\n",
       "      <th>6</th>\n",
       "      <td>4</td>\n",
       "      <td>9</td>\n",
       "    </tr>\n",
       "    <tr>\n",
       "      <th>7</th>\n",
       "      <td>3</td>\n",
       "      <td>9</td>\n",
       "    </tr>\n",
       "    <tr>\n",
       "      <th>8</th>\n",
       "      <td>0</td>\n",
       "      <td>3</td>\n",
       "    </tr>\n",
       "    <tr>\n",
       "      <th>9</th>\n",
       "      <td>4</td>\n",
       "      <td>10</td>\n",
       "    </tr>\n",
       "  </tbody>\n",
       "</table>\n",
       "</div>"
      ],
      "text/plain": [
       "   x   y\n",
       "0  0   2\n",
       "1  3   8\n",
       "2  2   7\n",
       "3  1   3\n",
       "4  5  13\n",
       "5  5  12\n",
       "6  4   9\n",
       "7  3   9\n",
       "8  0   3\n",
       "9  4  10"
      ]
     },
     "execution_count": 3,
     "metadata": {},
     "output_type": "execute_result"
    }
   ],
   "source": [
    "df.head(10)"
   ]
  },
  {
   "cell_type": "markdown",
   "id": "65b830b3-849e-49d2-81f3-d35f52672899",
   "metadata": {},
   "source": [
    "### 1. Draw a scatter plot of the data"
   ]
  },
  {
   "cell_type": "code",
   "execution_count": 9,
   "id": "d8462e65-dc4f-43a7-bd18-51c1e797304b",
   "metadata": {},
   "outputs": [
    {
     "data": {
      "image/png": "[encoded data removed]",
      "text/plain": [
       "<Figure size 432x288 with 1 Axes>"
      ]
     },
     "metadata": {
      "needs_background": "light"
     },
     "output_type": "display_data"
    }
   ],
   "source": [
    "plt.scatter(x='x', y='y', data=df)\n",
    "plt.xlabel('X Values')\n",
    "plt.ylabel('Y Values')\n",
    "plt.show()"
   ]
  },
  {
   "cell_type": "markdown",
   "id": "cdb931dd-e2d9-4e24-905b-245bdd300c2c",
   "metadata": {},
   "source": [
    "### 2.Use regression to find the equation for the line of best fit."
   ]
  },
  {
   "cell_type": "code",
   "execution_count": 10,
   "id": "ec48d3be-4319-4aed-ade8-6a851aff481a",
   "metadata": {},
   "outputs": [],
   "source": [
    "from sklearn.linear_model import LinearRegression\n",
    "import numpy as np"
   ]
  },
  {
   "cell_type": "code",
   "execution_count": 17,
   "id": "846e7017-422a-4af5-8635-eaa3459191c5",
   "metadata": {},
   "outputs": [
    {
     "data": {
      "text/plain": [
       "array([[0],\n",
       "       [3],\n",
       "       [2],\n",
       "       [1],\n",
       "       [5],\n",
       "       [5],\n",
       "       [4],\n",
       "       [3],\n",
       "       [0],\n",
       "       [4]], dtype=int64)"
      ]
     },
     "execution_count": 17,
     "metadata": {},
     "output_type": "execute_result"
    }
   ],
   "source": [
    "np.array(df['x']).reshape(1, -1).transpose()"
   ]
  },
  {
   "cell_type": "code",
   "execution_count": 18,
   "id": "d3ca1fa7-b393-4143-8202-852f92891023",
   "metadata": {},
   "outputs": [
    {
     "data": {
      "text/plain": [
       "LinearRegression()"
      ]
     },
     "execution_count": 18,
     "metadata": {},
     "output_type": "execute_result"
    }
   ],
   "source": [
    "lm = LinearRegression()\n",
    "X = np.array(df['x']).reshape(1, -1).transpose()\n",
    "y = df['y'].values.tolist()\n",
    "lm.fit(X,y)"
   ]
  },
  {
   "cell_type": "code",
   "execution_count": 19,
   "id": "617cce3e-1d67-42f5-808e-a51057fd85e6",
   "metadata": {},
   "outputs": [
    {
     "data": {
      "text/plain": [
       "array([1.98753894])"
      ]
     },
     "execution_count": 19,
     "metadata": {},
     "output_type": "execute_result"
    }
   ],
   "source": [
    "lm.coef_"
   ]
  },
  {
   "cell_type": "code",
   "execution_count": 20,
   "id": "82a58731-9f1b-46be-8b8e-6de5291d3b07",
   "metadata": {},
   "outputs": [
    {
     "data": {
      "text/plain": [
       "2.233644859813084"
      ]
     },
     "execution_count": 20,
     "metadata": {},
     "output_type": "execute_result"
    }
   ],
   "source": [
    "lm.intercept_"
   ]
  },
  {
   "cell_type": "code",
   "execution_count": 21,
   "id": "28879c77-082e-4f7b-8e3a-9bcc497d792b",
   "metadata": {},
   "outputs": [
    {
     "data": {
      "text/plain": [
       "array([ 2.23364486,  8.19626168,  6.20872274,  4.2211838 , 12.17133956,\n",
       "       12.17133956, 10.18380062,  8.19626168,  2.23364486, 10.18380062])"
      ]
     },
     "execution_count": 21,
     "metadata": {},
     "output_type": "execute_result"
    }
   ],
   "source": [
    "y_pred = lm.predict(X)\n",
    "y_pred"
   ]
  },
  {
   "cell_type": "markdown",
   "id": "23ec46cc-a4fc-47ab-83ab-70d4fd194cab",
   "metadata": {},
   "source": [
    "### Line of Best Fit Equation => y = mx + c\n",
    "y = 1.98753894(x) + 2.233644859813084"
   ]
  },
  {
   "cell_type": "markdown",
   "id": "bde30d30-456f-4e53-b1ec-ebf1816c0e5d",
   "metadata": {},
   "source": [
    "#### Validation using x = 3"
   ]
  },
  {
   "cell_type": "code",
   "execution_count": 58,
   "id": "25958c87-80dd-43cf-b2f5-6a1bf6fdeb55",
   "metadata": {},
   "outputs": [
    {
     "data": {
      "text/plain": [
       "8.196261679813084"
      ]
     },
     "execution_count": 58,
     "metadata": {},
     "output_type": "execute_result"
    }
   ],
   "source": [
    "(1.98753894 * 3) + 2.233644859813084"
   ]
  },
  {
   "cell_type": "markdown",
   "id": "1dd4015f-f2f6-4229-ac5e-6a79329be06e",
   "metadata": {},
   "source": [
    "### 3. Draw the line of best fit on the scatter plot."
   ]
  },
  {
   "cell_type": "code",
   "execution_count": 31,
   "id": "1fa8a3c2-7f03-4f5a-ba02-5556334e0421",
   "metadata": {},
   "outputs": [
    {
     "data": {
      "image/png": "[encoded data removed]",
      "text/plain": [
       "<Figure size 432x288 with 1 Axes>"
      ]
     },
     "metadata": {
      "needs_background": "light"
     },
     "output_type": "display_data"
    }
   ],
   "source": [
    "plt.scatter(x='x', y='y', data=df)\n",
    "plt.plot(X, y_pred, color=\"red\", linewidth=.8)\n",
    "plt.title(\"Best Fit Line\")\n",
    "plt.show()"
   ]
  },
  {
   "cell_type": "markdown",
   "id": "58d4c328-e04b-4386-968a-9a1ef9d3849f",
   "metadata": {},
   "source": [
    "### 4. What is the slope of the line of best fit? What does it represent?"
   ]
  },
  {
   "cell_type": "markdown",
   "id": "587f238c-adee-4969-b2c0-feecf439ef5e",
   "metadata": {},
   "source": [
    "##### The slope of the best fit line m = 1.98753894, it represents the change in y as x changes, if y is dependent of x. It is also called as regression coefficient or coefficient of slope."
   ]
  },
  {
   "cell_type": "markdown",
   "id": "d99bce0c-5aca-4fc5-8e20-892bc4ca5e6a",
   "metadata": {},
   "source": [
    "### 5. What is the y-intercept of the line of best fit? What does it represent?"
   ]
  },
  {
   "cell_type": "markdown",
   "id": "7c244972-79df-4f37-a57c-c0e728bb7c5e",
   "metadata": {},
   "source": [
    "##### The y-intercept is the place where the regression line y = mx + c crosses the y-axis (where x = 0), and is denoted by c. The y-intercept represents the y-value when the x-value is 0."
   ]
  },
  {
   "cell_type": "markdown",
   "id": "c8a75673-b114-4787-843e-6849b7110d84",
   "metadata": {},
   "source": [
    "### 6. What does an r value of zero mean?"
   ]
  },
  {
   "cell_type": "markdown",
   "id": "01d2ebc8-32b9-4c6e-88ad-33711718147b",
   "metadata": {},
   "source": [
    "##### A r value of zero(0) means that there is no correlation."
   ]
  },
  {
   "cell_type": "markdown",
   "id": "90645d81-5b34-4292-b754-d3aa38213e55",
   "metadata": {},
   "source": [
    "### 7. When n = 2 and r = 1, are the data significant? Explain."
   ]
  },
  {
   "cell_type": "markdown",
   "id": "83315ab7-9f92-4e9e-901e-8f2e55dccef4",
   "metadata": {},
   "source": [
    "##### Even though the correlation value (r) is 1 the number of given samples is 2 which is fewer or minimal. Hence the data is insignificant."
   ]
  },
  {
   "cell_type": "markdown",
   "id": "fa855c60-09a1-415b-9045-76bc7669a703",
   "metadata": {},
   "source": [
    "### 8.When n = 100 and r = -0.89, is there a significant correlation? Explain."
   ]
  },
  {
   "cell_type": "markdown",
   "id": "1db3a778-f08a-480c-86ba-db21784ee290",
   "metadata": {},
   "source": [
    "##### The correlation r of the give data is -0.89, which means the data is negatively correlated. Since the sample size is of 100, there is a signifcant correlation between the data."
   ]
  },
  {
   "cell_type": "markdown",
   "id": "898b7083-6a71-4de2-bce5-fabe7bfe0b10",
   "metadata": {},
   "source": [
    "### 9.What is the process through which we can calculate a line that goes through a scatter plot with a linear pattern?"
   ]
  },
  {
   "cell_type": "markdown",
   "id": "972dce34-fbb8-439b-b154-e9cb302bff64",
   "metadata": {},
   "source": [
    "Best Line fit formula y = mx + b"
   ]
  },
  {
   "cell_type": "code",
   "execution_count": 53,
   "id": "ce0b0bf3-0dca-4ba9-9b86-0176af1c6d3a",
   "metadata": {},
   "outputs": [
    {
     "name": "stdout",
     "output_type": "stream",
     "text": [
      "27 76 105 269 2.7 7.6\n"
     ]
    }
   ],
   "source": [
    "x2 = 0\n",
    "xy = 0\n",
    "_x = 0\n",
    "_y = 0\n",
    "xmean = 0 \n",
    "ymean = 0\n",
    "n = len(x)\n",
    "for i in range(0, len(x)):\n",
    "    _x = _x + x[i]\n",
    "    _y = _y + y[i]\n",
    "    x2 = x2 + (x[i]*x[i])\n",
    "    xy = xy + (x[i]*y[i])\n",
    "xmean = _x/n\n",
    "ymean = _y/n\n",
    "print(_x, _y, x2, xy, xmean, ymean)"
   ]
  },
  {
   "cell_type": "code",
   "execution_count": 52,
   "id": "6f176c34-87b5-488b-8d3a-1981830a7f07",
   "metadata": {},
   "outputs": [
    {
     "data": {
      "text/plain": [
       "1.9875389408099688"
      ]
     },
     "execution_count": 52,
     "metadata": {},
     "output_type": "execute_result"
    }
   ],
   "source": [
    "a = ((n*xy) - (_x*_y)) / ((n*x2) - (_x*_x))\n",
    "a"
   ]
  },
  {
   "cell_type": "code",
   "execution_count": 55,
   "id": "b0d62f5a-0c84-43f9-a210-4606612bc8c9",
   "metadata": {},
   "outputs": [
    {
     "data": {
      "text/plain": [
       "2.233644859813084"
      ]
     },
     "execution_count": 55,
     "metadata": {},
     "output_type": "execute_result"
    }
   ],
   "source": [
    "b = ymean - (a*xmean)\n",
    "b"
   ]
  },
  {
   "cell_type": "markdown",
   "id": "f6a27cc7-0e42-45de-b75a-68e4e4e9344e",
   "metadata": {},
   "source": [
    "#### Evaluating for x = 3"
   ]
  },
  {
   "cell_type": "code",
   "execution_count": 57,
   "id": "ecc9af72-5972-4a19-8fc1-d8fea2e077fb",
   "metadata": {},
   "outputs": [
    {
     "data": {
      "text/plain": [
       "8.19626168224299"
      ]
     },
     "execution_count": 57,
     "metadata": {},
     "output_type": "execute_result"
    }
   ],
   "source": [
    "y = (a * 3) + b\n",
    "y"
   ]
  },
  {
   "cell_type": "markdown",
   "id": "993bec36-d40e-4248-af64-1d422c3702a7",
   "metadata": {},
   "source": [
    "#### Negative Correlation"
   ]
  },
  {
   "cell_type": "code",
   "execution_count": 58,
   "id": "2fd3da34-ad3f-4cdd-8173-9a2082fcad56",
   "metadata": {},
   "outputs": [
    {
     "data": {
      "text/plain": [
       "array([  1,   2,   3,   4,   5,   6,   7,   8,   9,  10,  11,  12,  13,\n",
       "        14,  15,  16,  17,  18,  19,  20,  21,  22,  23,  24,  25,  26,\n",
       "        27,  28,  29,  30,  31,  32,  33,  34,  35,  36,  37,  38,  39,\n",
       "        40,  41,  42,  43,  44,  45,  46,  47,  48,  49,  50,  51,  52,\n",
       "        53,  54,  55,  56,  57,  58,  59,  60,  61,  62,  63,  64,  65,\n",
       "        66,  67,  68,  69,  70,  71,  72,  73,  74,  75,  76,  77,  78,\n",
       "        79,  80,  81,  82,  83,  84,  85,  86,  87,  88,  89,  90,  91,\n",
       "        92,  93,  94,  95,  96,  97,  98,  99, 100])"
      ]
     },
     "execution_count": 58,
     "metadata": {},
     "output_type": "execute_result"
    }
   ],
   "source": [
    "a = np.arange(1, 101)\n",
    "a"
   ]
  },
  {
   "cell_type": "code",
   "execution_count": 62,
   "id": "a5ef40d2-59ca-46e7-b0dd-1fab85796331",
   "metadata": {},
   "outputs": [
    {
     "data": {
      "text/plain": [
       "array([100,  99,  98,  97,  96,  95,  94,  93,  92,  91,  90,  89,  88,\n",
       "        87,  86,  85,  84,  83,  82,  81,  80,  79,  78,  77,  76,  75,\n",
       "        74,  73,  72,  71,  70,  69,  68,  67,  66,  65,  64,  63,  62,\n",
       "        61,  60,  59,  58,  57,  56,  55,  54,  53,  52,  51,  50,  49,\n",
       "        48,  47,  46,  45,  44,  43,  42,  41,  40,  39,  38,  37,  36,\n",
       "        35,  34,  33,  32,  31,  30,  29,  28,  27,  26,  25,  24,  23,\n",
       "        22,  21,  20,  19,  18,  17,  16,  15,  14,  13,  12,  11,  10,\n",
       "         9,   8,   7,   6,   5,   4,   3,   2,   1])"
      ]
     },
     "execution_count": 62,
     "metadata": {},
     "output_type": "execute_result"
    }
   ],
   "source": [
    "b = np.arange(100, 0, -1)\n",
    "b"
   ]
  },
  {
   "cell_type": "code",
   "execution_count": 63,
   "id": "49e3128f-4709-4eeb-80fb-120a713091aa",
   "metadata": {},
   "outputs": [
    {
     "data": {
      "text/plain": [
       "<matplotlib.collections.PathCollection at 0x1da7758ff40>"
      ]
     },
     "execution_count": 63,
     "metadata": {},
     "output_type": "execute_result"
    },
    {
     "data": {
      "image/png": "[encoded data removed]",
      "text/plain": [
       "<Figure size 432x288 with 1 Axes>"
      ]
     },
     "metadata": {
      "needs_background": "light"
     },
     "output_type": "display_data"
    }
   ],
   "source": [
    "plt.scatter(x=a, y=b)"
   ]
  },
  {
   "cell_type": "code",
   "execution_count": 64,
   "id": "3a22a040-8930-4a3b-9eca-0bea1a908280",
   "metadata": {},
   "outputs": [
    {
     "data": {
      "text/plain": [
       "array([[ 1., -1.],\n",
       "       [-1.,  1.]])"
      ]
     },
     "execution_count": 64,
     "metadata": {},
     "output_type": "execute_result"
    }
   ],
   "source": [
    "np.corrcoef(a, b)"
   ]
  }
 ],
 "metadata": {
  "kernelspec": {
   "display_name": "Python 3 (ipykernel)",
   "language": "python",
   "name": "python3"
  },
  "language_info": {
   "codemirror_mode": {
    "name": "ipython",
    "version": 3
   },
   "file_extension": ".py",
   "mimetype": "text/x-python",
   "name": "python",
   "nbconvert_exporter": "python",
   "pygments_lexer": "ipython3",
   "version": "3.9.12"
  }
 },
 "nbformat": 4,
 "nbformat_minor": 5
}
